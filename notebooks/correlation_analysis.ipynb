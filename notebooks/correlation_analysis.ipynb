{
 "cells": [
  {
   "cell_type": "code",
   "execution_count": null,
   "id": "f1e070d0b8538984",
   "metadata": {
    "ExecuteTime": {
     "end_time": "2024-08-12T13:48:25.089418Z",
     "start_time": "2024-08-12T13:48:25.075906Z"
    },
    "collapsed": false
   },
   "outputs": [],
   "source": [
    "import pandas as pd\n",
    "import matplotlib.pyplot as plt\n",
    "from matplotlib.ticker import MaxNLocator\n",
    "from utils import correlation_confidence_interval"
   ]
  },
  {
   "attachments": {},
   "cell_type": "markdown",
   "id": "68f5ab7ccd5ba42c",
   "metadata": {
    "collapsed": false
   },
   "source": [
    "# hospitalization"
   ]
  },
  {
   "cell_type": "code",
   "execution_count": null,
   "id": "initial_id",
   "metadata": {
    "ExecuteTime": {
     "end_time": "2024-08-12T13:48:25.308113Z",
     "start_time": "2024-08-12T13:48:25.245636Z"
    },
    "collapsed": true
   },
   "outputs": [],
   "source": [
    "cov_hosp = pd.read_csv(\"../data/COVID_hosp.csv\")\n",
    "cov_hosp = cov_hosp[cov_hosp['geography'] == 'DE']\n",
    "cov_hosp = cov_hosp[['date', 'total']].rename(columns={'total': 'hosp'})\n",
    "cov_hosp.set_index('date', inplace=True)\n",
    "cov_hosp['hosp'] = cov_hosp['hosp'] / (84357 / 100)"
   ]
  },
  {
   "cell_type": "markdown",
   "id": "baf6a1c88a6a2fa6",
   "metadata": {
    "collapsed": false
   },
   "source": [
    "# viral load"
   ]
  },
  {
   "cell_type": "code",
   "execution_count": null,
   "id": "bd0200a04b3ebaed",
   "metadata": {
    "ExecuteTime": {
     "end_time": "2024-08-12T13:48:26.154286Z",
     "start_time": "2024-08-12T13:48:26.029027Z"
    },
    "collapsed": false
   },
   "outputs": [],
   "source": [
    "# Read the Excel file into a DataFrame\n",
    "cov_vir = pd.read_excel(\"../data/amelag_aggregierte_kurve.xlsx\")\n",
    "cov_vir = cov_vir[['datum', 'viruslast']].dropna()\n",
    "cov_vir = cov_vir.rename(columns={'datum': 'date', 'viruslast': 'viral load'})\n",
    "cov_vir['date'] = cov_vir['date'].dt.date.astype('str')\n",
    "cov_vir['date'] = cov_vir['date'].replace(\" 00:00:00\", \"\")\n",
    "cov_vir.set_index('date', inplace=True)\n",
    "\n",
    "# Read the Excel file into a DataFrame\n",
    "cov_vir_loess = pd.read_excel(\"../data/amelag_aggregierte_kurve.xlsx\")\n",
    "cov_vir_loess = cov_vir_loess[['datum', 'loess_vorhersage']].dropna()\n",
    "cov_vir_loess = cov_vir_loess.rename(columns={'datum': 'date', 'loess_vorhersage': 'viral load (loess)'})\n",
    "cov_vir_loess['date'] = cov_vir_loess['date'].dt.date.astype('str')\n",
    "cov_vir_loess['date'] = cov_vir_loess['date'].replace(\" 00:00:00\", \"\")\n",
    "cov_vir_loess.set_index('date', inplace=True)"
   ]
  },
  {
   "attachments": {},
   "cell_type": "markdown",
   "id": "34361389c5efc4ad",
   "metadata": {
    "collapsed": false
   },
   "source": [
    "# combined dataframe"
   ]
  },
  {
   "cell_type": "code",
   "execution_count": null,
   "id": "c9956306cd022ce4",
   "metadata": {
    "ExecuteTime": {
     "end_time": "2024-08-12T13:48:26.446573Z",
     "start_time": "2024-08-12T13:48:26.195029Z"
    },
    "collapsed": false
   },
   "outputs": [],
   "source": [
    "# Combine dataframes based on index (date)\n",
    "combined_df = pd.concat([cov_hosp, cov_vir, cov_vir_loess], axis=1)"
   ]
  },
  {
   "cell_type": "code",
   "execution_count": null,
   "id": "6910fe91a946881b",
   "metadata": {
    "ExecuteTime": {
     "end_time": "2024-08-12T13:48:26.453538Z",
     "start_time": "2024-08-12T13:48:26.446573Z"
    }
   },
   "outputs": [],
   "source": [
    "#combined_df = combined_df[combined_df['viral load (loess)'].notna()]\n",
    "combined_df = combined_df.rename(columns={'hosp': 'hospitalization incidence'})"
   ]
  },
  {
   "attachments": {},
   "cell_type": "markdown",
   "id": "3ba6fd01aeaadbd6",
   "metadata": {
    "collapsed": false
   },
   "source": [
    "# correlation"
   ]
  },
  {
   "cell_type": "code",
   "execution_count": null,
   "id": "7232d07bfed6dce5",
   "metadata": {
    "ExecuteTime": {
     "end_time": "2024-08-12T13:48:30.171311Z",
     "start_time": "2024-08-12T13:48:30.156143Z"
    },
    "collapsed": false
   },
   "outputs": [],
   "source": [
    "combined_df = combined_df.reset_index(drop=True)\n",
    "combined_df.corr(method='spearman')"
   ]
  },
  {
   "cell_type": "code",
   "execution_count": null,
   "id": "b77ee8630e488330",
   "metadata": {
    "ExecuteTime": {
     "end_time": "2024-08-12T13:48:53.526464Z",
     "start_time": "2024-08-12T13:48:53.499049Z"
    },
    "collapsed": false
   },
   "outputs": [],
   "source": [
    "# Define the columns of interest\n",
    "column1 = 'viral load (loess)'\n",
    "column2 = 'hospitalization incidence'\n",
    "\n",
    "# Initialize variables to store the maximum absolute correlation and corresponding shift value\n",
    "max_abs_corr = 0\n",
    "best_shift = 0\n",
    "\n",
    "# Loop through shift values from -7 to 14\n",
    "corrs=[]\n",
    "CIs = []\n",
    "for shift in range(-7,15):  # Shift values \n",
    "    # Create lagged versions of the columns\n",
    "    lagged_column1 = combined_df[column1].shift(shift).dropna()\n",
    "    lagged_column2 = combined_df[column2].dropna()\n",
    "    # Calculate the correlation between the lagged columns\n",
    "    corr = lagged_column1.corr(lagged_column2,method='spearman')\n",
    "    #print(shift,corr)\n",
    "    corrs.append(corr)\n",
    "    CIs.append(correlation_confidence_interval(corr,len(lagged_column1)))\n",
    "    # Update max_abs_corr and best_shift if the absolute correlation is higher\n",
    "    if abs(corr) > max_abs_corr:\n",
    "        max_abs_corr = abs(corr)\n",
    "        best_shift = shift\n",
    "\n",
    "\n",
    "# Display the maximum absolute correlation and corresponding shift value\n",
    "print(\"Maximum absolute correlation:\", max_abs_corr)\n",
    "print(\"Corresponding shift value:\", best_shift)\n",
    "\n",
    "\n",
    "# Example data\n",
    "\n",
    "# Calculate the error margins\n",
    "yerr = [[corr - lower for corr, (lower, upper) in zip(corrs, CIs)],  # Lower errors\n",
    "        [upper - corr for corr, (lower, upper) in zip(corrs, CIs)]]  # Upper errors\n",
    "\n",
    "# Plot\n",
    "plt.figure(figsize=(10, 6))\n",
    "plt.errorbar(range(-7, 15), corrs, yerr=yerr, fmt='o', linestyle='-', markersize=4)\n",
    "\n",
    "# Add title and labels\n",
    "plt.title('Spearman Correlation with 95% Confidence Interval',fontsize=16)\n",
    "plt.xlabel('Lag Value (days)',fontsize=16)\n",
    "plt.ylabel('Spearman Correlation',fontsize=16)\n",
    "\n",
    "# Get current axes and set integer x-ticks\n",
    "ax = plt.gca()\n",
    "ax.xaxis.set_major_locator(MaxNLocator(integer=True))\n",
    "\n",
    "# Add grid\n",
    "plt.grid(True)\n",
    "\n",
    "# Show plot\n",
    "plt.savefig(\"../output/lagged_corellation.png\")\n",
    "plt.show()\n",
    "\n"
   ]
  },
  {
   "cell_type": "code",
   "execution_count": null,
   "id": "0e522631",
   "metadata": {},
   "outputs": [],
   "source": []
  }
 ],
 "metadata": {
  "kernelspec": {
   "display_name": "base",
   "language": "python",
   "name": "python3"
  },
  "language_info": {
   "codemirror_mode": {
    "name": "ipython",
    "version": 3
   },
   "file_extension": ".py",
   "mimetype": "text/x-python",
   "name": "python",
   "nbconvert_exporter": "python",
   "pygments_lexer": "ipython3",
   "version": "3.9.16"
  },
  "vscode": {
   "interpreter": {
    "hash": "8f23ace84943ce80e250d3e34fbae8e2514d638635126369f891a764c405e7d3"
   }
  }
 },
 "nbformat": 4,
 "nbformat_minor": 5
}
