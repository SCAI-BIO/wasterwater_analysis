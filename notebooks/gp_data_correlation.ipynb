{
 "cells": [
  {
   "cell_type": "code",
   "execution_count": 19,
   "id": "initial_id",
   "metadata": {
    "ExecuteTime": {
     "end_time": "2024-08-30T15:02:48.779508Z",
     "start_time": "2024-08-30T15:02:48.775518Z"
    },
    "collapsed": true
   },
   "outputs": [],
   "source": [
    "import numpy as np\n",
    "import pandas as pd\n",
    "import matplotlib.pyplot as plt\n",
    "from utils import correlation_confidence_interval"
   ]
  },
  {
   "attachments": {},
   "cell_type": "markdown",
   "id": "d8d89b36d2c8b9e1",
   "metadata": {
    "collapsed": false
   },
   "source": [
    "# Correlation between virus load and diagnoses"
   ]
  },
  {
   "cell_type": "markdown",
   "id": "3772b0f1ef193ae5",
   "metadata": {
    "collapsed": false
   },
   "source": [
    "## Import and format data"
   ]
  },
  {
   "cell_type": "code",
   "execution_count": 2,
   "id": "ec85ca2990df5326",
   "metadata": {
    "ExecuteTime": {
     "end_time": "2024-08-30T15:02:48.871082Z",
     "start_time": "2024-08-30T15:02:48.849338Z"
    },
    "collapsed": false
   },
   "outputs": [],
   "source": [
    "diagnoses = pd.read_csv(\"../data/diagnoses.csv\")\n",
    "\n",
    "# Drop the 'geography' column\n",
    "diagnoses.drop(columns=['geography'], inplace=True)\n",
    "\n",
    "# Filter out the columns based on the condition\n",
    "columns_to_keep = [col for col in diagnoses.columns if '0-200' in col and 'ratio' not in col]\n",
    "\n",
    "# Keep only the desired columns (starting from the second column)\n",
    "diagnoses = diagnoses[['date'] + columns_to_keep]\n",
    "\n",
    "# Group by 'date' and sum up the values in each column - sums up numbers for all states\n",
    "diagnoses = diagnoses.groupby('date').sum().reset_index()"
   ]
  },
  {
   "cell_type": "code",
   "execution_count": 3,
   "id": "cb8703b5c4773114",
   "metadata": {
    "ExecuteTime": {
     "end_time": "2024-08-30T15:02:48.991276Z",
     "start_time": "2024-08-30T15:02:48.872360Z"
    },
    "collapsed": false
   },
   "outputs": [],
   "source": [
    "virus = pd.read_excel(\"../data/combined_df.xlsx\")\n",
    "virus = virus[[\"date\", \"viral load\"]].dropna()"
   ]
  },
  {
   "cell_type": "code",
   "execution_count": 4,
   "id": "48bbd0b4d58f9e80",
   "metadata": {
    "ExecuteTime": {
     "end_time": "2024-08-30T15:02:48.998803Z",
     "start_time": "2024-08-30T15:02:48.992324Z"
    },
    "collapsed": false
   },
   "outputs": [],
   "source": [
    "# Align dates of virus to dates of diagnoses for inner join\n",
    "\n",
    "# Convert 'date' column to datetime format\n",
    "virus['date'] = pd.to_datetime(virus['date'])\n",
    "\n",
    "# Subtract two days from each date\n",
    "virus['date'] = virus['date'] - pd.Timedelta(days=2)\n",
    "\n",
    "# Convert the dates back to the string format YYYY-MM-DD\n",
    "virus['date'] = virus['date'].dt.strftime('%Y-%m-%d')\n",
    "\n",
    "# Now the 'date' column in 'virus' DataFrame will have dates that are two days earlier in the format YYYY-MM-DD"
   ]
  },
  {
   "cell_type": "code",
   "execution_count": 5,
   "id": "cfae588471ada4ff",
   "metadata": {
    "ExecuteTime": {
     "end_time": "2024-08-30T15:02:49.010493Z",
     "start_time": "2024-08-30T15:02:49.000957Z"
    },
    "collapsed": false
   },
   "outputs": [],
   "source": [
    "# Joining the two DataFrames on the 'date' column\n",
    "merged_df = pd.merge(virus, diagnoses, on='date', how='inner')\n",
    "\n",
    "# Create a new column 'infection numbers' by summing up all columns except 'date' and 'viral load'\n",
    "merged_df['summed up infection numbers'] = merged_df.drop(columns=['date', 'viral load']).sum(axis=1)"
   ]
  },
  {
   "cell_type": "markdown",
   "id": "ebec55b1c1dec32b",
   "metadata": {
    "collapsed": false
   },
   "source": [
    "## Correlation"
   ]
  },
  {
   "cell_type": "code",
   "execution_count": 10,
   "id": "9959e1165d42a1b9",
   "metadata": {
    "ExecuteTime": {
     "end_time": "2024-08-30T15:02:49.039036Z",
     "start_time": "2024-08-30T15:02:49.026781Z"
    }
   },
   "outputs": [],
   "source": [
    "correlations = merged_df.drop(columns=['date']).corr(method='spearman') "
   ]
  },
  {
   "cell_type": "code",
   "execution_count": 11,
   "id": "2b2b5d5b",
   "metadata": {},
   "outputs": [
    {
     "data": {
      "text/html": [
       "<div>\n",
       "<style scoped>\n",
       "    .dataframe tbody tr th:only-of-type {\n",
       "        vertical-align: middle;\n",
       "    }\n",
       "\n",
       "    .dataframe tbody tr th {\n",
       "        vertical-align: top;\n",
       "    }\n",
       "\n",
       "    .dataframe thead th {\n",
       "        text-align: right;\n",
       "    }\n",
       "</style>\n",
       "<table border=\"1\" class=\"dataframe\">\n",
       "  <thead>\n",
       "    <tr style=\"text-align: right;\">\n",
       "      <th></th>\n",
       "      <th>viral load</th>\n",
       "      <th>distinct_patient_count J00-J06 Acute upper respiratory infections 0-200</th>\n",
       "      <th>distinct_patient_count J1-J2 RSV 0-200</th>\n",
       "      <th>distinct_patient_count J10-J18 Influenza and pneumonia 0-200</th>\n",
       "      <th>distinct_patient_count J20-J22 Other acute respiratory infections 0-200</th>\n",
       "      <th>distinct_patient_count U0 COVID-19 0-200</th>\n",
       "      <th>summed up infection numbers</th>\n",
       "    </tr>\n",
       "  </thead>\n",
       "  <tbody>\n",
       "    <tr>\n",
       "      <th>viral load</th>\n",
       "      <td>1.000000</td>\n",
       "      <td>0.904209</td>\n",
       "      <td>0.648583</td>\n",
       "      <td>0.799966</td>\n",
       "      <td>0.854862</td>\n",
       "      <td>0.893964</td>\n",
       "      <td>0.913771</td>\n",
       "    </tr>\n",
       "    <tr>\n",
       "      <th>distinct_patient_count J00-J06 Acute upper respiratory infections 0-200</th>\n",
       "      <td>0.904209</td>\n",
       "      <td>1.000000</td>\n",
       "      <td>0.653941</td>\n",
       "      <td>0.838555</td>\n",
       "      <td>0.955434</td>\n",
       "      <td>0.889268</td>\n",
       "      <td>0.980705</td>\n",
       "    </tr>\n",
       "    <tr>\n",
       "      <th>distinct_patient_count J1-J2 RSV 0-200</th>\n",
       "      <td>0.648583</td>\n",
       "      <td>0.653941</td>\n",
       "      <td>1.000000</td>\n",
       "      <td>0.723429</td>\n",
       "      <td>0.720857</td>\n",
       "      <td>0.744777</td>\n",
       "      <td>0.708254</td>\n",
       "    </tr>\n",
       "    <tr>\n",
       "      <th>distinct_patient_count J10-J18 Influenza and pneumonia 0-200</th>\n",
       "      <td>0.799966</td>\n",
       "      <td>0.838555</td>\n",
       "      <td>0.723429</td>\n",
       "      <td>1.000000</td>\n",
       "      <td>0.906856</td>\n",
       "      <td>0.936993</td>\n",
       "      <td>0.907624</td>\n",
       "    </tr>\n",
       "    <tr>\n",
       "      <th>distinct_patient_count J20-J22 Other acute respiratory infections 0-200</th>\n",
       "      <td>0.854862</td>\n",
       "      <td>0.955434</td>\n",
       "      <td>0.720857</td>\n",
       "      <td>0.906856</td>\n",
       "      <td>1.000000</td>\n",
       "      <td>0.914881</td>\n",
       "      <td>0.974302</td>\n",
       "    </tr>\n",
       "    <tr>\n",
       "      <th>distinct_patient_count U0 COVID-19 0-200</th>\n",
       "      <td>0.893964</td>\n",
       "      <td>0.889268</td>\n",
       "      <td>0.744777</td>\n",
       "      <td>0.936993</td>\n",
       "      <td>0.914881</td>\n",
       "      <td>1.000000</td>\n",
       "      <td>0.955263</td>\n",
       "    </tr>\n",
       "    <tr>\n",
       "      <th>summed up infection numbers</th>\n",
       "      <td>0.913771</td>\n",
       "      <td>0.980705</td>\n",
       "      <td>0.708254</td>\n",
       "      <td>0.907624</td>\n",
       "      <td>0.974302</td>\n",
       "      <td>0.955263</td>\n",
       "      <td>1.000000</td>\n",
       "    </tr>\n",
       "  </tbody>\n",
       "</table>\n",
       "</div>"
      ],
      "text/plain": [
       "                                                    viral load  \\\n",
       "viral load                                            1.000000   \n",
       "distinct_patient_count J00-J06 Acute upper resp...    0.904209   \n",
       "distinct_patient_count J1-J2 RSV 0-200                0.648583   \n",
       "distinct_patient_count J10-J18 Influenza and pn...    0.799966   \n",
       "distinct_patient_count J20-J22 Other acute resp...    0.854862   \n",
       "distinct_patient_count U0 COVID-19 0-200              0.893964   \n",
       "summed up infection numbers                           0.913771   \n",
       "\n",
       "                                                    distinct_patient_count J00-J06 Acute upper respiratory infections 0-200  \\\n",
       "viral load                                                                                   0.904209                         \n",
       "distinct_patient_count J00-J06 Acute upper resp...                                           1.000000                         \n",
       "distinct_patient_count J1-J2 RSV 0-200                                                       0.653941                         \n",
       "distinct_patient_count J10-J18 Influenza and pn...                                           0.838555                         \n",
       "distinct_patient_count J20-J22 Other acute resp...                                           0.955434                         \n",
       "distinct_patient_count U0 COVID-19 0-200                                                     0.889268                         \n",
       "summed up infection numbers                                                                  0.980705                         \n",
       "\n",
       "                                                    distinct_patient_count J1-J2 RSV 0-200  \\\n",
       "viral load                                                                        0.648583   \n",
       "distinct_patient_count J00-J06 Acute upper resp...                                0.653941   \n",
       "distinct_patient_count J1-J2 RSV 0-200                                            1.000000   \n",
       "distinct_patient_count J10-J18 Influenza and pn...                                0.723429   \n",
       "distinct_patient_count J20-J22 Other acute resp...                                0.720857   \n",
       "distinct_patient_count U0 COVID-19 0-200                                          0.744777   \n",
       "summed up infection numbers                                                       0.708254   \n",
       "\n",
       "                                                    distinct_patient_count J10-J18 Influenza and pneumonia 0-200  \\\n",
       "viral load                                                                                   0.799966              \n",
       "distinct_patient_count J00-J06 Acute upper resp...                                           0.838555              \n",
       "distinct_patient_count J1-J2 RSV 0-200                                                       0.723429              \n",
       "distinct_patient_count J10-J18 Influenza and pn...                                           1.000000              \n",
       "distinct_patient_count J20-J22 Other acute resp...                                           0.906856              \n",
       "distinct_patient_count U0 COVID-19 0-200                                                     0.936993              \n",
       "summed up infection numbers                                                                  0.907624              \n",
       "\n",
       "                                                    distinct_patient_count J20-J22 Other acute respiratory infections 0-200  \\\n",
       "viral load                                                                                   0.854862                         \n",
       "distinct_patient_count J00-J06 Acute upper resp...                                           0.955434                         \n",
       "distinct_patient_count J1-J2 RSV 0-200                                                       0.720857                         \n",
       "distinct_patient_count J10-J18 Influenza and pn...                                           0.906856                         \n",
       "distinct_patient_count J20-J22 Other acute resp...                                           1.000000                         \n",
       "distinct_patient_count U0 COVID-19 0-200                                                     0.914881                         \n",
       "summed up infection numbers                                                                  0.974302                         \n",
       "\n",
       "                                                    distinct_patient_count U0 COVID-19 0-200  \\\n",
       "viral load                                                                          0.893964   \n",
       "distinct_patient_count J00-J06 Acute upper resp...                                  0.889268   \n",
       "distinct_patient_count J1-J2 RSV 0-200                                              0.744777   \n",
       "distinct_patient_count J10-J18 Influenza and pn...                                  0.936993   \n",
       "distinct_patient_count J20-J22 Other acute resp...                                  0.914881   \n",
       "distinct_patient_count U0 COVID-19 0-200                                            1.000000   \n",
       "summed up infection numbers                                                         0.955263   \n",
       "\n",
       "                                                    summed up infection numbers  \n",
       "viral load                                                             0.913771  \n",
       "distinct_patient_count J00-J06 Acute upper resp...                     0.980705  \n",
       "distinct_patient_count J1-J2 RSV 0-200                                 0.708254  \n",
       "distinct_patient_count J10-J18 Influenza and pn...                     0.907624  \n",
       "distinct_patient_count J20-J22 Other acute resp...                     0.974302  \n",
       "distinct_patient_count U0 COVID-19 0-200                               0.955263  \n",
       "summed up infection numbers                                            1.000000  "
      ]
     },
     "execution_count": 11,
     "metadata": {},
     "output_type": "execute_result"
    }
   ],
   "source": [
    "correlations"
   ]
  },
  {
   "cell_type": "code",
   "execution_count": 29,
   "id": "b2487995",
   "metadata": {},
   "outputs": [
    {
     "name": "stdout",
     "output_type": "stream",
     "text": [
      "1.0 (nan, nan)\n",
      "0.9042089985486212 (0.8381230124906167, 0.9441354657297901)\n",
      "0.6485825406975403 (0.45647810869590627, 0.7829091980360832)\n",
      "0.799965849910356 (0.6742649412422782, 0.8806176957293164)\n",
      "0.8548621190130624 (0.7590398302489538, 0.9144325150647521)\n",
      "0.8939639716554256 (0.8214726214597196, 0.9380216621007996)\n",
      "0.913771023648937 (0.8537752847114164, 0.949816994693525)\n",
      "0.9042089985486212 (0.8381230124906167, 0.9441354657297901)\n",
      "1.0 (nan, nan)\n",
      "0.6539409556074671 (0.46381303328136375, 0.7864846728246266)\n",
      "0.8385554512080594 (0.7335139739260153, 0.904474069722681)\n",
      "0.9554341330145991 (0.923264109711671, 0.9742977363241603)\n",
      "0.8892683343293776 (0.8138822789434716, 0.9352103080511355)\n",
      "0.9807051993511483 (0.9664643314544513, 0.9889327400685829)\n",
      "0.6485825406975403 (0.45647810869590627, 0.7829091980360832)\n",
      "0.6539409556074671 (0.46381303328136375, 0.7864846728246266)\n",
      "1.0 (nan, nan)\n",
      "0.7234288801593979 (0.5613531250948985, 0.8320605083822674)\n",
      "0.720856841002633 (0.5576606812237952, 0.8303992978348612)\n",
      "0.7447768051605463 (0.5922515021038255, 0.8457737542148053)\n",
      "0.7082538491344852 (0.5396605862631395, 0.8222311166343472)\n",
      "0.799965849910356 (0.6742649412422782, 0.8806176957293164)\n",
      "0.8385554512080594 (0.7335139739260153, 0.904474069722681)\n",
      "0.7234288801593979 (0.5613531250948985, 0.8320605083822674)\n",
      "1.0 (nan, nan)\n",
      "0.90685563049603 (0.8424444729652432, 0.9457104107897377)\n",
      "0.936993084606847 (0.8922448769116489, 0.963516684134113)\n",
      "0.9076240075130197 (0.8437006447367823, 0.9461673113689963)\n",
      "0.8548621190130624 (0.7590398302489538, 0.9144325150647521)\n",
      "0.9554341330145991 (0.923264109711671, 0.9742977363241603)\n",
      "0.720856841002633 (0.5576606812237952, 0.8303992978348612)\n",
      "0.90685563049603 (0.8424444729652432, 0.9457104107897377)\n",
      "1.0 (nan, nan)\n",
      "0.9148809015623666 (0.8555991180611187, 0.9504749209942822)\n",
      "0.974302057542901 (0.9554415541179143, 0.9852396298222921)\n",
      "0.8939639716554256 (0.8214726214597196, 0.9380216621007996)\n",
      "0.8892683343293776 (0.8138822789434716, 0.9352103080511355)\n",
      "0.7447768051605463 (0.5922515021038255, 0.8457737542148053)\n",
      "0.936993084606847 (0.8922448769116489, 0.963516684134113)\n",
      "0.9148809015623666 (0.8555991180611187, 0.9504749209942822)\n",
      "1.0 (nan, nan)\n",
      "0.9552633825663792 (0.92297495758532, 0.9741983065677855)\n",
      "0.913771023648937 (0.8537752847114164, 0.949816994693525)\n",
      "0.9807051993511483 (0.9664643314544513, 0.9889327400685829)\n",
      "0.7082538491344852 (0.5396605862631395, 0.8222311166343472)\n",
      "0.9076240075130197 (0.8437006447367823, 0.9461673113689963)\n",
      "0.974302057542901 (0.9554415541179143, 0.9852396298222921)\n",
      "0.9552633825663792 (0.92297495758532, 0.9741983065677855)\n",
      "1.0 (nan, nan)\n"
     ]
    },
    {
     "name": "stderr",
     "output_type": "stream",
     "text": [
      "/Users/jbotz/Projects/Paper/wastewater_analysis/code/notebooks/utils.py:6: RuntimeWarning: divide by zero encountered in scalar divide\n",
      "  z = 0.5 * math.log((1 + r) / (1 - r))\n"
     ]
    }
   ],
   "source": [
    "# can read confidence intervall and value from for loop below, can be extended to store values properly\n",
    "for value in correlations.values.flatten():\n",
    "    print(value, correlation_confidence_interval(value, 52))"
   ]
  },
  {
   "cell_type": "code",
   "execution_count": null,
   "id": "d8476571",
   "metadata": {},
   "outputs": [],
   "source": []
  }
 ],
 "metadata": {
  "kernelspec": {
   "display_name": "base",
   "language": "python",
   "name": "python3"
  },
  "language_info": {
   "codemirror_mode": {
    "name": "ipython",
    "version": 3
   },
   "file_extension": ".py",
   "mimetype": "text/x-python",
   "name": "python",
   "nbconvert_exporter": "python",
   "pygments_lexer": "ipython3",
   "version": "3.9.16"
  },
  "vscode": {
   "interpreter": {
    "hash": "8f23ace84943ce80e250d3e34fbae8e2514d638635126369f891a764c405e7d3"
   }
  }
 },
 "nbformat": 4,
 "nbformat_minor": 5
}
